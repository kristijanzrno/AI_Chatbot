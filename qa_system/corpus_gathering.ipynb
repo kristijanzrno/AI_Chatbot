{
  "nbformat": 4,
  "nbformat_minor": 0,
  "metadata": {
    "colab": {
      "name": "corpus_gathering.ipynb",
      "provenance": [],
      "collapsed_sections": []
    },
    "kernelspec": {
      "name": "python3",
      "display_name": "Python 3"
    }
  },
  "cells": [
    {
      "cell_type": "code",
      "metadata": {
        "id": "bpERY8HZdJqx",
        "colab_type": "code",
        "colab": {}
      },
      "source": [
        "import re\n",
        "import requests\n",
        "import bs4\n",
        "from bs4 import BeautifulSoup"
      ],
      "execution_count": 0,
      "outputs": []
    },
    {
      "cell_type": "code",
      "metadata": {
        "id": "5II06kiydon-",
        "colab_type": "code",
        "colab": {}
      },
      "source": [
        "# BeautifulSoup tutorials followed from \n",
        "# https://pythonspot.com/extract-links-from-webpage-beautifulsoup/\n",
        "url = 'https://bigbangtrans.wordpress.com/series-1-episode-1-pilot-episode/'\n",
        "soup = BeautifulSoup(requests.get(URL).text, 'html.parser')"
      ],
      "execution_count": 0,
      "outputs": []
    },
    {
      "cell_type": "code",
      "metadata": {
        "id": "hq3-h9u8dtO_",
        "colab_type": "code",
        "colab": {}
      },
      "source": [
        "links = []\n",
        "# Getting urls from the webpage\n",
        "for link in soup.find(name = 'div', attrs = {'id': 'pages-2'}).find_all(name = 'li', attrs = {'class': 'page_item'}):\n",
        "    links.append(link)\n",
        "# Extracting a href url\n",
        "links = [a.find(name = 'a')['href'] for a in links]\n"
      ],
      "execution_count": 0,
      "outputs": []
    },
    {
      "cell_type": "code",
      "metadata": {
        "id": "u8Tg4dw0eM57",
        "colab_type": "code",
        "colab": {}
      },
      "source": [
        "tbbt_lines = []\n",
        "for link in links:\n",
        "  soup = BeautifulSoup(requests.get(link).text, 'html.parser')\n",
        "  scripts = soup.find(name = 'div', attrs = {'class': 'entrytext'}).find_all(name = 'p', attrs = {'class': 'MsoNormal'})\n",
        "  scripts = [re.sub(r'\\([^()]*\\)', '', p.text.strip()) for p in scripts]\n",
        "  processed_scripts = []\n",
        "  for s in scripts:\n",
        "    try:\n",
        "      processed_scripts.append(re.search(r':', s).string)\n",
        "    except AttributeError:\n",
        "      pass\n",
        "    tbbt_lines.append(processed_scripts)"
      ],
      "execution_count": 0,
      "outputs": []
    },
    {
      "cell_type": "code",
      "metadata": {
        "id": "1fEOX5YyfEFQ",
        "colab_type": "code",
        "colab": {
          "base_uri": "https://localhost:8080/",
          "height": 124
        },
        "outputId": "3a070fc5-38cb-4db6-8a45-c1d7ba4ff791"
      },
      "source": [
        "from google.colab import drive\n",
        "drive.mount('/content/drive', force_remount=True)\n",
        "project_path = \"/content/drive/My Drive/data3/\""
      ],
      "execution_count": 13,
      "outputs": [
        {
          "output_type": "stream",
          "text": [
            "Go to this URL in a browser: https://accounts.google.com/o/oauth2/auth?client_id=947318989803-6bn6qk8qdgf4n4g3pfee6491hc0brc4i.apps.googleusercontent.com&redirect_uri=urn%3aietf%3awg%3aoauth%3a2.0%3aoob&response_type=code&scope=email%20https%3a%2f%2fwww.googleapis.com%2fauth%2fdocs.test%20https%3a%2f%2fwww.googleapis.com%2fauth%2fdrive%20https%3a%2f%2fwww.googleapis.com%2fauth%2fdrive.photos.readonly%20https%3a%2f%2fwww.googleapis.com%2fauth%2fpeopleapi.readonly\n",
            "\n",
            "Enter your authorization code:\n",
            "··········\n",
            "Mounted at /content/drive\n"
          ],
          "name": "stdout"
        }
      ]
    },
    {
      "cell_type": "code",
      "metadata": {
        "id": "gpCuIbIafFNS",
        "colab_type": "code",
        "colab": {}
      },
      "source": [
        "with open(project_path+'tbbt_new.txt', 'w') as f:\n",
        "  f.write('\\n'.join(str(x) for x in tbbt_lines))"
      ],
      "execution_count": 0,
      "outputs": []
    }
  ]
}